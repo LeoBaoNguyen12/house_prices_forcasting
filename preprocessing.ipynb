{
 "cells": [
  {
   "cell_type": "markdown",
   "metadata": {},
   "source": [
    "# Step by step processing data\n",
    "1. Xoá các hàng có cột Bathroom có giá trị >10\n",
    "2. Xoá các giá trị NaN ở cột Price\n",
    "3. Điền các giá trị thiếu ở cột Carpet Area, Current Floor\n",
    "4. Thay đổi giá trị of của cột Total Floor bằng giá trị Median của cột đó"
   ]
  },
  {
   "cell_type": "markdown",
   "metadata": {},
   "source": [
    "# Import libraries"
   ]
  },
  {
   "cell_type": "code",
   "execution_count": 79,
   "metadata": {},
   "outputs": [],
   "source": [
    "import pandas as pd\n",
    "import numpy as np\n",
    "import matplotlib.pyplot as plt\n",
    "from sklearn.impute import SimpleImputer"
   ]
  },
  {
   "cell_type": "code",
   "execution_count": 80,
   "metadata": {},
   "outputs": [
    {
     "name": "stderr",
     "output_type": "stream",
     "text": [
      "/var/folders/kn/x5nhf1_j5257w0rs737fn3bh0000gn/T/ipykernel_52461/1749871991.py:2: DtypeWarning: Columns (0) have mixed types. Specify dtype option on import or set low_memory=False.\n",
      "  df = pd.read_csv(\"/Users/nguyengiabao/Documents/house_price/data/Pre_data.csv\")\n"
     ]
    },
    {
     "data": {
      "text/html": [
       "<div>\n",
       "<style scoped>\n",
       "    .dataframe tbody tr th:only-of-type {\n",
       "        vertical-align: middle;\n",
       "    }\n",
       "\n",
       "    .dataframe tbody tr th {\n",
       "        vertical-align: top;\n",
       "    }\n",
       "\n",
       "    .dataframe thead th {\n",
       "        text-align: right;\n",
       "    }\n",
       "</style>\n",
       "<table border=\"1\" class=\"dataframe\">\n",
       "  <thead>\n",
       "    <tr style=\"text-align: right;\">\n",
       "      <th></th>\n",
       "      <th>Carpet Area</th>\n",
       "      <th>Unit</th>\n",
       "      <th>Current Floor</th>\n",
       "      <th>Total Floor</th>\n",
       "      <th>Bathroom</th>\n",
       "      <th>Price</th>\n",
       "    </tr>\n",
       "  </thead>\n",
       "  <tbody>\n",
       "    <tr>\n",
       "      <th>0</th>\n",
       "      <td>500.0</td>\n",
       "      <td>sqft</td>\n",
       "      <td>10.0</td>\n",
       "      <td>11</td>\n",
       "      <td>1</td>\n",
       "      <td>6000.0</td>\n",
       "    </tr>\n",
       "    <tr>\n",
       "      <th>1</th>\n",
       "      <td>473.0</td>\n",
       "      <td>sqft</td>\n",
       "      <td>3.0</td>\n",
       "      <td>22</td>\n",
       "      <td>2</td>\n",
       "      <td>13799.0</td>\n",
       "    </tr>\n",
       "    <tr>\n",
       "      <th>2</th>\n",
       "      <td>779.0</td>\n",
       "      <td>sqft</td>\n",
       "      <td>10.0</td>\n",
       "      <td>29</td>\n",
       "      <td>2</td>\n",
       "      <td>17500.0</td>\n",
       "    </tr>\n",
       "    <tr>\n",
       "      <th>3</th>\n",
       "      <td>530.0</td>\n",
       "      <td>sqft</td>\n",
       "      <td>1.0</td>\n",
       "      <td>3</td>\n",
       "      <td>1</td>\n",
       "      <td>NaN</td>\n",
       "    </tr>\n",
       "    <tr>\n",
       "      <th>4</th>\n",
       "      <td>635.0</td>\n",
       "      <td>sqft</td>\n",
       "      <td>20.0</td>\n",
       "      <td>42</td>\n",
       "      <td>2</td>\n",
       "      <td>18824.0</td>\n",
       "    </tr>\n",
       "    <tr>\n",
       "      <th>...</th>\n",
       "      <td>...</td>\n",
       "      <td>...</td>\n",
       "      <td>...</td>\n",
       "      <td>...</td>\n",
       "      <td>...</td>\n",
       "      <td>...</td>\n",
       "    </tr>\n",
       "    <tr>\n",
       "      <th>187526</th>\n",
       "      <td>NaN</td>\n",
       "      <td>NaN</td>\n",
       "      <td>2.0</td>\n",
       "      <td>4</td>\n",
       "      <td>3</td>\n",
       "      <td>3225.0</td>\n",
       "    </tr>\n",
       "    <tr>\n",
       "      <th>187527</th>\n",
       "      <td>NaN</td>\n",
       "      <td>NaN</td>\n",
       "      <td>4.0</td>\n",
       "      <td>6</td>\n",
       "      <td>3</td>\n",
       "      <td>3274.0</td>\n",
       "    </tr>\n",
       "    <tr>\n",
       "      <th>187528</th>\n",
       "      <td>1250</td>\n",
       "      <td>sqft</td>\n",
       "      <td>1.0</td>\n",
       "      <td>3</td>\n",
       "      <td>3</td>\n",
       "      <td>4343.0</td>\n",
       "    </tr>\n",
       "    <tr>\n",
       "      <th>187529</th>\n",
       "      <td>NaN</td>\n",
       "      <td>NaN</td>\n",
       "      <td>2.0</td>\n",
       "      <td>2</td>\n",
       "      <td>2</td>\n",
       "      <td>4231.0</td>\n",
       "    </tr>\n",
       "    <tr>\n",
       "      <th>187530</th>\n",
       "      <td>NaN</td>\n",
       "      <td>NaN</td>\n",
       "      <td>5.0</td>\n",
       "      <td>13</td>\n",
       "      <td>4</td>\n",
       "      <td>6162.0</td>\n",
       "    </tr>\n",
       "  </tbody>\n",
       "</table>\n",
       "<p>187531 rows × 6 columns</p>\n",
       "</div>"
      ],
      "text/plain": [
       "       Carpet Area   Unit  Current Floor Total Floor Bathroom    Price\n",
       "0            500.0   sqft           10.0          11        1   6000.0\n",
       "1            473.0   sqft            3.0          22        2  13799.0\n",
       "2            779.0   sqft           10.0          29        2  17500.0\n",
       "3            530.0   sqft            1.0           3        1      NaN\n",
       "4            635.0   sqft           20.0          42        2  18824.0\n",
       "...            ...    ...            ...         ...      ...      ...\n",
       "187526         NaN    NaN            2.0           4        3   3225.0\n",
       "187527         NaN    NaN            4.0           6        3   3274.0\n",
       "187528        1250   sqft            1.0           3        3   4343.0\n",
       "187529         NaN    NaN            2.0           2        2   4231.0\n",
       "187530         NaN    NaN            5.0          13        4   6162.0\n",
       "\n",
       "[187531 rows x 6 columns]"
      ]
     },
     "execution_count": 80,
     "metadata": {},
     "output_type": "execute_result"
    }
   ],
   "source": [
    "# đọc dữ liệu\n",
    "df = pd.read_csv(\"/Users/nguyengiabao/Documents/house_price/data/Pre_data.csv\")\n",
    "df"
   ]
  },
  {
   "cell_type": "code",
   "execution_count": 81,
   "metadata": {},
   "outputs": [],
   "source": [
    "# kiểm tra cột và xoá khoảng trắng\n",
    "df.columns = df.columns.str.strip()  # Xoá khoảng trắng đầu/cuối tên cột\n"
   ]
  },
  {
   "cell_type": "code",
   "execution_count": 82,
   "metadata": {},
   "outputs": [
    {
     "name": "stdout",
     "output_type": "stream",
     "text": [
      "       Carpet Area   Unit  Current Floor Total Floor  Bathroom    Price\n",
      "0            500.0   sqft           10.0          11       1.0   6000.0\n",
      "1            473.0   sqft            3.0          22       2.0  13799.0\n",
      "2            779.0   sqft           10.0          29       2.0  17500.0\n",
      "4            635.0   sqft           20.0          42       2.0  18824.0\n",
      "5              NaN    NaN            2.0           7       1.0   6618.0\n",
      "...            ...    ...            ...         ...       ...      ...\n",
      "187526         NaN    NaN            2.0           4       3.0   3225.0\n",
      "187527         NaN    NaN            4.0           6       3.0   3274.0\n",
      "187528        1250   sqft            1.0           3       3.0   4343.0\n",
      "187529         NaN    NaN            2.0           2       2.0   4231.0\n",
      "187530         NaN    NaN            5.0          13       4.0   6162.0\n",
      "\n",
      "[169084 rows x 6 columns]\n"
     ]
    },
    {
     "name": "stderr",
     "output_type": "stream",
     "text": [
      "/var/folders/kn/x5nhf1_j5257w0rs737fn3bh0000gn/T/ipykernel_52461/1193872131.py:5: SettingWithCopyWarning: \n",
      "A value is trying to be set on a copy of a slice from a DataFrame.\n",
      "Try using .loc[row_indexer,col_indexer] = value instead\n",
      "\n",
      "See the caveats in the documentation: https://pandas.pydata.org/pandas-docs/stable/user_guide/indexing.html#returning-a-view-versus-a-copy\n",
      "  df[\"Bathroom\"] = pd.to_numeric(df[\"Bathroom\"], errors=\"coerce\")\n"
     ]
    }
   ],
   "source": [
    "# Xoá các hàng có giá trị NaN ở cột Price\n",
    "df = df.dropna(subset=[\"Price\"])\n",
    "\n",
    "# Chuyển cột Bathroom sang dạng số ( vì Bathroom đang ở dạng chuỗi \">10\")\n",
    "df[\"Bathroom\"] = pd.to_numeric(df[\"Bathroom\"], errors=\"coerce\")\n",
    "\n",
    "# Xóa các hàng có Bathroom > 10\n",
    "df = df[df[\"Bathroom\"] <= 10]\n",
    "\n",
    "print(df)\n"
   ]
  },
  {
   "cell_type": "code",
   "execution_count": 83,
   "metadata": {},
   "outputs": [
    {
     "name": "stdout",
     "output_type": "stream",
     "text": [
      "float64\n",
      "[' sqft' nan ' sqm' ' sqyrd' ' acre' ' bigha' ' marla' ' kanal']\n"
     ]
    }
   ],
   "source": [
    "# Chuyển cột \" Carpet Area\" sang dạng số\n",
    "df[\"Carpet Area\"] = pd.to_numeric(df[\"Carpet Area\"], errors=\"coerce\")\n",
    "print(df[\"Carpet Area\"].dtype)\n",
    "\n",
    "# Đơn vị của cột \"Carpet Area\"\n",
    "print(df[\"Unit\"].unique())"
   ]
  },
  {
   "cell_type": "code",
   "execution_count": 84,
   "metadata": {},
   "outputs": [
    {
     "name": "stdout",
     "output_type": "stream",
     "text": [
      "0          500.0\n",
      "1          473.0\n",
      "2          779.0\n",
      "4          635.0\n",
      "5            NaN\n",
      "           ...  \n",
      "187526       NaN\n",
      "187527       NaN\n",
      "187528    1250.0\n",
      "187529       NaN\n",
      "187530       NaN\n",
      "Name: Carpet Area, Length: 169084, dtype: float64\n"
     ]
    }
   ],
   "source": [
    "# Đổi đơn vị tính Carpet Area về cùng 1 đơn vị\n",
    "# Tại sao lại xuất hiện sqft hay sqm đến 2 lần là vì do khoảng trắng, tương tự với giá trị khác\n",
    "conversion_factors = {\n",
    "    \"sqft\": 1, \" sqft\": 1,  \n",
    "    \"sqm\": 10.764, \" sqm\": 10.764,  \n",
    "    \"acre\": 43560, \" acre\": 43560,  \n",
    "    \"sqyrd\": 9, \" sqyrd\": 9,  \n",
    "    \"marla\": 272.25, \" marla\": 272.25,  \n",
    "    \"kanal\": 5445, \" kanal\": 5445,  \n",
    "    \"bigha\": 17427, \" bigha\": 17427\n",
    "}\n",
    "\n",
    "# Loại bỏ khoảng trắng thừa\n",
    "df[\"Unit\"] = df[\"Unit\"].str.strip()\n",
    "# Chuyển đổi diện tích khi tính toán\n",
    "df[\"Carpet Area\"] = df[\"Carpet Area\"] * df[\"Unit\"].map(conversion_factors)\n",
    "\n",
    "print(df[\"Carpet Area\"])\n"
   ]
  },
  {
   "cell_type": "code",
   "execution_count": 85,
   "metadata": {},
   "outputs": [
    {
     "name": "stdout",
     "output_type": "stream",
     "text": [
      "        Carpet Area  Current Floor Total Floor  Bathroom    Price\n",
      "0             500.0           10.0          11       1.0   6000.0\n",
      "1             473.0            3.0          22       2.0  13799.0\n",
      "2             779.0           10.0          29       2.0  17500.0\n",
      "4             635.0           20.0          42       2.0  18824.0\n",
      "5               NaN            2.0           7       1.0   6618.0\n",
      "...             ...            ...         ...       ...      ...\n",
      "187526          NaN            2.0           4       3.0   3225.0\n",
      "187527          NaN            4.0           6       3.0   3274.0\n",
      "187528       1250.0            1.0           3       3.0   4343.0\n",
      "187529          NaN            2.0           2       2.0   4231.0\n",
      "187530          NaN            5.0          13       4.0   6162.0\n",
      "\n",
      "[169084 rows x 5 columns]\n"
     ]
    }
   ],
   "source": [
    "# Xoá cột Unit \n",
    "df.drop(columns=[\"Unit\"], inplace=True)\n",
    "print(df)"
   ]
  },
  {
   "cell_type": "code",
   "execution_count": 86,
   "metadata": {},
   "outputs": [
    {
     "name": "stdout",
     "output_type": "stream",
     "text": [
      "0          500.0\n",
      "1          473.0\n",
      "2          779.0\n",
      "4          635.0\n",
      "5         1100.0\n",
      "           ...  \n",
      "187526    1100.0\n",
      "187527    1100.0\n",
      "187528    1250.0\n",
      "187529    1100.0\n",
      "187530    1100.0\n",
      "Name: ImputedCarpet_Area, Length: 169084, dtype: float64\n"
     ]
    }
   ],
   "source": [
    "# điền giá trị trung vị với Carpet Area\n",
    "imputer = SimpleImputer(strategy=\"median\")\n",
    "imputer.fit(df[[\"Carpet Area\"]])\n",
    "df[[\"ImputedCarpet_Area\"]] = imputer.transform(df[[\"Carpet Area\"]])\n",
    "print(df[\"ImputedCarpet_Area\"])"
   ]
  },
  {
   "cell_type": "code",
   "execution_count": 87,
   "metadata": {},
   "outputs": [
    {
     "name": "stdout",
     "output_type": "stream",
     "text": [
      "0         10.0\n",
      "1          3.0\n",
      "2         10.0\n",
      "4         20.0\n",
      "5          2.0\n",
      "          ... \n",
      "187526     2.0\n",
      "187527     4.0\n",
      "187528     1.0\n",
      "187529     2.0\n",
      "187530     5.0\n",
      "Name: ImputedCurrent_Floor, Length: 169084, dtype: float64\n"
     ]
    }
   ],
   "source": [
    "# điền gía trị trung vị với Current Floor\n",
    "imputer = SimpleImputer(strategy=\"median\")\n",
    "imputer.fit(df[[\"Current Floor\"]])\n",
    "df[[\"ImputedCurrent_Floor\"]] = imputer.transform(df[[\"Current Floor\"]])\n",
    "print(df[\"ImputedCurrent_Floor\"])\n"
   ]
  },
  {
   "cell_type": "code",
   "execution_count": 88,
   "metadata": {},
   "outputs": [
    {
     "name": "stdout",
     "output_type": "stream",
     "text": [
      "0         11.0\n",
      "1         22.0\n",
      "2         29.0\n",
      "4         42.0\n",
      "5          7.0\n",
      "          ... \n",
      "187526     4.0\n",
      "187527     6.0\n",
      "187528     3.0\n",
      "187529     2.0\n",
      "187530    13.0\n",
      "Name: Total Floor, Length: 169084, dtype: float64\n"
     ]
    },
    {
     "name": "stderr",
     "output_type": "stream",
     "text": [
      "/var/folders/kn/x5nhf1_j5257w0rs737fn3bh0000gn/T/ipykernel_52461/690359594.py:8: FutureWarning: A value is trying to be set on a copy of a DataFrame or Series through chained assignment using an inplace method.\n",
      "The behavior will change in pandas 3.0. This inplace method will never work because the intermediate object on which we are setting values always behaves as a copy.\n",
      "\n",
      "For example, when doing 'df[col].method(value, inplace=True)', try using 'df.method({col: value}, inplace=True)' or df[col] = df[col].method(value) instead, to perform the operation inplace on the original object.\n",
      "\n",
      "\n",
      "  df[\"Total Floor\"].fillna(int(df[\"Total Floor\"].mean()), inplace=True)\n"
     ]
    }
   ],
   "source": [
    "# Chuyển đổi of thành giá trị trung bình của cột của nó\n",
    "df[\"Total Floor\"] = df[\"Total Floor\"].replace(\"of\", np.nan)\n",
    "\n",
    "# Chuyển đổi sang dạng số\n",
    "df[\"Total Floor\"] = pd.to_numeric(df[\"Total Floor\"], errors=\"coerce\")\n",
    "\n",
    "# Điền NaN bằng phần nguyên của giá trị trung bình\n",
    "df[\"Total Floor\"].fillna(int(df[\"Total Floor\"].mean()), inplace=True)\n",
    "\n",
    "print(df[\"Total Floor\"])"
   ]
  },
  {
   "cell_type": "code",
   "execution_count": null,
   "metadata": {},
   "outputs": [
    {
     "name": "stdout",
     "output_type": "stream",
     "text": [
      "        Total Floor  Bathroom    Price  ImputedCarpet_Area  \\\n",
      "0              11.0       1.0   6000.0               500.0   \n",
      "1              22.0       2.0  13799.0               473.0   \n",
      "2              29.0       2.0  17500.0               779.0   \n",
      "4              42.0       2.0  18824.0               635.0   \n",
      "5               7.0       1.0   6618.0              1100.0   \n",
      "...             ...       ...      ...                 ...   \n",
      "187526          4.0       3.0   3225.0              1100.0   \n",
      "187527          6.0       3.0   3274.0              1100.0   \n",
      "187528          3.0       3.0   4343.0              1250.0   \n",
      "187529          2.0       2.0   4231.0              1100.0   \n",
      "187530         13.0       4.0   6162.0              1100.0   \n",
      "\n",
      "        ImputedCurrent_Floor  \n",
      "0                       10.0  \n",
      "1                        3.0  \n",
      "2                       10.0  \n",
      "4                       20.0  \n",
      "5                        2.0  \n",
      "...                      ...  \n",
      "187526                   2.0  \n",
      "187527                   4.0  \n",
      "187528                   1.0  \n",
      "187529                   2.0  \n",
      "187530                   5.0  \n",
      "\n",
      "[169084 rows x 5 columns]\n"
     ]
    }
   ],
   "source": [
    "# kiểm tra Data Frame \n",
    "df.dropna(columns=[\"Carpet Area\", \"Current Floor\"], inplace=True)\n",
    "print(df)"
   ]
  },
  {
   "cell_type": "code",
   "execution_count": 96,
   "metadata": {},
   "outputs": [
    {
     "data": {
      "text/html": [
       "<div>\n",
       "<style scoped>\n",
       "    .dataframe tbody tr th:only-of-type {\n",
       "        vertical-align: middle;\n",
       "    }\n",
       "\n",
       "    .dataframe tbody tr th {\n",
       "        vertical-align: top;\n",
       "    }\n",
       "\n",
       "    .dataframe thead th {\n",
       "        text-align: right;\n",
       "    }\n",
       "</style>\n",
       "<table border=\"1\" class=\"dataframe\">\n",
       "  <thead>\n",
       "    <tr style=\"text-align: right;\">\n",
       "      <th></th>\n",
       "      <th>Total Floor</th>\n",
       "      <th>Bathroom</th>\n",
       "      <th>Price</th>\n",
       "      <th>ImputedCarpet_Area</th>\n",
       "      <th>ImputedCurrent_Floor</th>\n",
       "    </tr>\n",
       "  </thead>\n",
       "  <tbody>\n",
       "    <tr>\n",
       "      <th>count</th>\n",
       "      <td>169084.000000</td>\n",
       "      <td>169084.000000</td>\n",
       "      <td>1.690840e+05</td>\n",
       "      <td>1.690840e+05</td>\n",
       "      <td>169084.000000</td>\n",
       "    </tr>\n",
       "    <tr>\n",
       "      <th>mean</th>\n",
       "      <td>8.904953</td>\n",
       "      <td>2.445122</td>\n",
       "      <td>7.592008e+03</td>\n",
       "      <td>1.751470e+03</td>\n",
       "      <td>4.504584</td>\n",
       "    </tr>\n",
       "    <tr>\n",
       "      <th>std</th>\n",
       "      <td>7.489324</td>\n",
       "      <td>0.843642</td>\n",
       "      <td>2.730193e+04</td>\n",
       "      <td>1.728946e+05</td>\n",
       "      <td>4.654983</td>\n",
       "    </tr>\n",
       "    <tr>\n",
       "      <th>min</th>\n",
       "      <td>1.000000</td>\n",
       "      <td>1.000000</td>\n",
       "      <td>0.000000e+00</td>\n",
       "      <td>1.000000e+00</td>\n",
       "      <td>-2.000000</td>\n",
       "    </tr>\n",
       "    <tr>\n",
       "      <th>25%</th>\n",
       "      <td>4.000000</td>\n",
       "      <td>2.000000</td>\n",
       "      <td>4.296000e+03</td>\n",
       "      <td>1.000000e+03</td>\n",
       "      <td>2.000000</td>\n",
       "    </tr>\n",
       "    <tr>\n",
       "      <th>50%</th>\n",
       "      <td>6.000000</td>\n",
       "      <td>2.000000</td>\n",
       "      <td>6.039000e+03</td>\n",
       "      <td>1.100000e+03</td>\n",
       "      <td>3.000000</td>\n",
       "    </tr>\n",
       "    <tr>\n",
       "      <th>75%</th>\n",
       "      <td>11.000000</td>\n",
       "      <td>3.000000</td>\n",
       "      <td>9.524000e+03</td>\n",
       "      <td>1.200000e+03</td>\n",
       "      <td>6.000000</td>\n",
       "    </tr>\n",
       "    <tr>\n",
       "      <th>max</th>\n",
       "      <td>200.000000</td>\n",
       "      <td>10.000000</td>\n",
       "      <td>6.700000e+06</td>\n",
       "      <td>6.534000e+07</td>\n",
       "      <td>200.000000</td>\n",
       "    </tr>\n",
       "  </tbody>\n",
       "</table>\n",
       "</div>"
      ],
      "text/plain": [
       "         Total Floor       Bathroom         Price  ImputedCarpet_Area  \\\n",
       "count  169084.000000  169084.000000  1.690840e+05        1.690840e+05   \n",
       "mean        8.904953       2.445122  7.592008e+03        1.751470e+03   \n",
       "std         7.489324       0.843642  2.730193e+04        1.728946e+05   \n",
       "min         1.000000       1.000000  0.000000e+00        1.000000e+00   \n",
       "25%         4.000000       2.000000  4.296000e+03        1.000000e+03   \n",
       "50%         6.000000       2.000000  6.039000e+03        1.100000e+03   \n",
       "75%        11.000000       3.000000  9.524000e+03        1.200000e+03   \n",
       "max       200.000000      10.000000  6.700000e+06        6.534000e+07   \n",
       "\n",
       "       ImputedCurrent_Floor  \n",
       "count         169084.000000  \n",
       "mean               4.504584  \n",
       "std                4.654983  \n",
       "min               -2.000000  \n",
       "25%                2.000000  \n",
       "50%                3.000000  \n",
       "75%                6.000000  \n",
       "max              200.000000  "
      ]
     },
     "execution_count": 96,
     "metadata": {},
     "output_type": "execute_result"
    }
   ],
   "source": [
    "df.describe()"
   ]
  },
  {
   "cell_type": "code",
   "execution_count": 97,
   "metadata": {},
   "outputs": [],
   "source": [
    "# Lưu dữ liệu đã xử lý vào file CSV mới\n",
    "df.to_csv(\"/Users/nguyengiabao/Documents/house_price/data/Pretraining_data.csv\", index=False)\n"
   ]
  }
 ],
 "metadata": {
  "kernelspec": {
   "display_name": "Python 3",
   "language": "python",
   "name": "python3"
  },
  "language_info": {
   "codemirror_mode": {
    "name": "ipython",
    "version": 3
   },
   "file_extension": ".py",
   "mimetype": "text/x-python",
   "name": "python",
   "nbconvert_exporter": "python",
   "pygments_lexer": "ipython3",
   "version": "3.10.8"
  }
 },
 "nbformat": 4,
 "nbformat_minor": 2
}
