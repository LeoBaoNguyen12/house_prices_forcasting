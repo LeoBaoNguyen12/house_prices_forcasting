{
 "cells": [
  {
   "cell_type": "markdown",
   "metadata": {
    "vscode": {
     "languageId": "plaintext"
    }
   },
   "source": [
    "# BUILDING MACHINE LEARNING MODEL"
   ]
  },
  {
   "cell_type": "code",
   "execution_count": 14,
   "metadata": {},
   "outputs": [],
   "source": [
    "# Import thư viện\n",
    "import pandas as pd\n",
    "import numpy as np\n",
    "import seaborn as sns\n",
    "import matplotlib.pyplot as plt\n",
    "from sklearn.preprocessing import StandardScaler\n",
    "from sklearn.model_selection import train_test_split\n",
    "from sklearn.linear_model import LinearRegression\n",
    "\n",
    "import torch\n",
    "import torch.nn as nn\n",
    "import torch.optim as optim\n"
   ]
  },
  {
   "cell_type": "code",
   "execution_count": 4,
   "metadata": {},
   "outputs": [
    {
     "data": {
      "text/html": [
       "<div>\n",
       "<style scoped>\n",
       "    .dataframe tbody tr th:only-of-type {\n",
       "        vertical-align: middle;\n",
       "    }\n",
       "\n",
       "    .dataframe tbody tr th {\n",
       "        vertical-align: top;\n",
       "    }\n",
       "\n",
       "    .dataframe thead th {\n",
       "        text-align: right;\n",
       "    }\n",
       "</style>\n",
       "<table border=\"1\" class=\"dataframe\">\n",
       "  <thead>\n",
       "    <tr style=\"text-align: right;\">\n",
       "      <th></th>\n",
       "      <th>Total Floor</th>\n",
       "      <th>Bathroom</th>\n",
       "      <th>Price</th>\n",
       "      <th>ImputedCarpet_Area</th>\n",
       "      <th>ImputedCurrent_Floor</th>\n",
       "    </tr>\n",
       "  </thead>\n",
       "  <tbody>\n",
       "    <tr>\n",
       "      <th>0</th>\n",
       "      <td>11.0</td>\n",
       "      <td>1.0</td>\n",
       "      <td>6000.0</td>\n",
       "      <td>500.0</td>\n",
       "      <td>10.0</td>\n",
       "    </tr>\n",
       "    <tr>\n",
       "      <th>1</th>\n",
       "      <td>22.0</td>\n",
       "      <td>2.0</td>\n",
       "      <td>13799.0</td>\n",
       "      <td>473.0</td>\n",
       "      <td>3.0</td>\n",
       "    </tr>\n",
       "    <tr>\n",
       "      <th>2</th>\n",
       "      <td>29.0</td>\n",
       "      <td>2.0</td>\n",
       "      <td>17500.0</td>\n",
       "      <td>779.0</td>\n",
       "      <td>10.0</td>\n",
       "    </tr>\n",
       "    <tr>\n",
       "      <th>3</th>\n",
       "      <td>42.0</td>\n",
       "      <td>2.0</td>\n",
       "      <td>18824.0</td>\n",
       "      <td>635.0</td>\n",
       "      <td>20.0</td>\n",
       "    </tr>\n",
       "    <tr>\n",
       "      <th>4</th>\n",
       "      <td>7.0</td>\n",
       "      <td>1.0</td>\n",
       "      <td>6618.0</td>\n",
       "      <td>1100.0</td>\n",
       "      <td>2.0</td>\n",
       "    </tr>\n",
       "    <tr>\n",
       "      <th>...</th>\n",
       "      <td>...</td>\n",
       "      <td>...</td>\n",
       "      <td>...</td>\n",
       "      <td>...</td>\n",
       "      <td>...</td>\n",
       "    </tr>\n",
       "    <tr>\n",
       "      <th>169079</th>\n",
       "      <td>4.0</td>\n",
       "      <td>3.0</td>\n",
       "      <td>3225.0</td>\n",
       "      <td>1100.0</td>\n",
       "      <td>2.0</td>\n",
       "    </tr>\n",
       "    <tr>\n",
       "      <th>169080</th>\n",
       "      <td>6.0</td>\n",
       "      <td>3.0</td>\n",
       "      <td>3274.0</td>\n",
       "      <td>1100.0</td>\n",
       "      <td>4.0</td>\n",
       "    </tr>\n",
       "    <tr>\n",
       "      <th>169081</th>\n",
       "      <td>3.0</td>\n",
       "      <td>3.0</td>\n",
       "      <td>4343.0</td>\n",
       "      <td>1250.0</td>\n",
       "      <td>1.0</td>\n",
       "    </tr>\n",
       "    <tr>\n",
       "      <th>169082</th>\n",
       "      <td>2.0</td>\n",
       "      <td>2.0</td>\n",
       "      <td>4231.0</td>\n",
       "      <td>1100.0</td>\n",
       "      <td>2.0</td>\n",
       "    </tr>\n",
       "    <tr>\n",
       "      <th>169083</th>\n",
       "      <td>13.0</td>\n",
       "      <td>4.0</td>\n",
       "      <td>6162.0</td>\n",
       "      <td>1100.0</td>\n",
       "      <td>5.0</td>\n",
       "    </tr>\n",
       "  </tbody>\n",
       "</table>\n",
       "<p>169084 rows × 5 columns</p>\n",
       "</div>"
      ],
      "text/plain": [
       "        Total Floor  Bathroom    Price  ImputedCarpet_Area  \\\n",
       "0              11.0       1.0   6000.0               500.0   \n",
       "1              22.0       2.0  13799.0               473.0   \n",
       "2              29.0       2.0  17500.0               779.0   \n",
       "3              42.0       2.0  18824.0               635.0   \n",
       "4               7.0       1.0   6618.0              1100.0   \n",
       "...             ...       ...      ...                 ...   \n",
       "169079          4.0       3.0   3225.0              1100.0   \n",
       "169080          6.0       3.0   3274.0              1100.0   \n",
       "169081          3.0       3.0   4343.0              1250.0   \n",
       "169082          2.0       2.0   4231.0              1100.0   \n",
       "169083         13.0       4.0   6162.0              1100.0   \n",
       "\n",
       "        ImputedCurrent_Floor  \n",
       "0                       10.0  \n",
       "1                        3.0  \n",
       "2                       10.0  \n",
       "3                       20.0  \n",
       "4                        2.0  \n",
       "...                      ...  \n",
       "169079                   2.0  \n",
       "169080                   4.0  \n",
       "169081                   1.0  \n",
       "169082                   2.0  \n",
       "169083                   5.0  \n",
       "\n",
       "[169084 rows x 5 columns]"
      ]
     },
     "execution_count": 4,
     "metadata": {},
     "output_type": "execute_result"
    }
   ],
   "source": [
    "# đọc dữ liệu\n",
    "df = pd.read_csv(\"/Users/nguyengiabao/Documents/house_price/data/Pretraining_data.csv\")\n",
    "df"
   ]
  },
  {
   "cell_type": "code",
   "execution_count": 5,
   "metadata": {},
   "outputs": [],
   "source": [
    "# Select features and labels\n",
    "def select_features(df, features_name):   # hàm chọn các đặc trưng\n",
    "    return df[features_name].values\n",
    "\n",
    "def select_labels(df, labels_name):       # hàm chọn biến mục tiêu\n",
    "    return df[labels_name].values"
   ]
  },
  {
   "cell_type": "code",
   "execution_count": 7,
   "metadata": {},
   "outputs": [],
   "source": [
    "# Select features\n",
    "features = select_features(df, [\"Total Floor\", \"Bathroom\", \"ImputedCarpet_Area\", \"ImputedCurrent_Floor\"])\n",
    "# Select labels\n",
    "labels = select_labels(df, \"Price\")\n"
   ]
  },
  {
   "cell_type": "code",
   "execution_count": 8,
   "metadata": {},
   "outputs": [
    {
     "data": {
      "text/plain": [
       "array([[1.10e+01, 1.00e+00, 5.00e+02, 1.00e+01],\n",
       "       [2.20e+01, 2.00e+00, 4.73e+02, 3.00e+00],\n",
       "       [2.90e+01, 2.00e+00, 7.79e+02, 1.00e+01],\n",
       "       ...,\n",
       "       [3.00e+00, 3.00e+00, 1.25e+03, 1.00e+00],\n",
       "       [2.00e+00, 2.00e+00, 1.10e+03, 2.00e+00],\n",
       "       [1.30e+01, 4.00e+00, 1.10e+03, 5.00e+00]], shape=(169084, 4))"
      ]
     },
     "execution_count": 8,
     "metadata": {},
     "output_type": "execute_result"
    }
   ],
   "source": [
    "features"
   ]
  },
  {
   "cell_type": "code",
   "execution_count": 9,
   "metadata": {},
   "outputs": [
    {
     "data": {
      "text/plain": [
       "array([ 6000., 13799., 17500., ...,  4343.,  4231.,  6162.],\n",
       "      shape=(169084,))"
      ]
     },
     "execution_count": 9,
     "metadata": {},
     "output_type": "execute_result"
    }
   ],
   "source": [
    "labels"
   ]
  },
  {
   "cell_type": "code",
   "execution_count": null,
   "metadata": {},
   "outputs": [],
   "source": [
    "# tách tập dữ liệu thành tập dữ liệu huấn luyện, kiểm định và kiểm tra\n",
    "feature_train, feature_test, label_train, label_test = train_test_split(features, labels, test_size=0.1, random_state=42)\n",
    "feature_train, feature_val, label_train, label_val = train_test_split(features, labels, test_size=0.1, random_state=42)"
   ]
  },
  {
   "cell_type": "code",
   "execution_count": 13,
   "metadata": {},
   "outputs": [
    {
     "name": "stdout",
     "output_type": "stream",
     "text": [
      "R2 score of train set: 0.0038710115871827266\n",
      "R2 score of val set: 0.12803737180740082\n",
      "Giá nhà dự đoán: 23658.98 rupees\n"
     ]
    }
   ],
   "source": [
    "# build model \n",
    "model = LinearRegression()\n",
    "model.fit(feature_train, label_train)  # Gradient Descent\n",
    "\n",
    "train_r2_score = model.score(feature_train, label_train)\n",
    "val_r2_score = model.score(feature_val, label_val)\n",
    "\n",
    "print(f\"R2 score of train set: {train_r2_score}\")\n",
    "print(f\"R2 score of val set: {val_r2_score}\")\n",
    "\n",
    "# hàm dự đoán giá nhà\n",
    "def predict_price(floor1, floor2, bathroom, carpet_area):\n",
    "    input_data = np.array([[floor1, floor2, bathroom, carpet_area]])\n",
    "    predicted_price = model.predict(input_data)[0]\n",
    "    return predicted_price\n",
    "\n",
    "# Dự đoán giá nhà với dữ liệu cụ thể\n",
    "sample_prediction = predict_price(5, 2, 2, 750)\n",
    "print(f\"Giá nhà dự đoán: {sample_prediction:.2f} rupees\")"
   ]
  },
  {
   "cell_type": "markdown",
   "metadata": {},
   "source": [
    "# BUILDING DEEP LEARNING MODEL"
   ]
  },
  {
   "cell_type": "code",
   "execution_count": null,
   "metadata": {},
   "outputs": [],
   "source": [
    "# xây dựng mô hình\n",
    "class HousePriceModel(nn.Module):\n",
    "    def __init__(self):\n",
    "        super(HousePriceModel, self).__init__()\n",
    "        self.fc1 = nn.Linear(4, 64)   # 4 đặc trưng → 64 nơ-ron ẩn\n",
    "        self.fc2 = nn.Linear(64, 32)  # 64 → 32 nơ-ron ẩn\n",
    "        self.fc3 = nn.Linear(32, 1)   # 32 → 1 đầu ra (giá nhà)\n",
    "\n",
    "    def forward(self, x):\n",
    "        x = torch.relu(self.fc1(x))  # Kích hoạt ReLU tầng 1\n",
    "        x = torch.relu(self.fc2(x))  # Kích hoạt ReLU tầng 2\n",
    "        x = self.fc3(x)  # Đầu ra không có activation (hàm tuyến tính)\n",
    "        return x\n"
   ]
  },
  {
   "cell_type": "code",
   "execution_count": 18,
   "metadata": {},
   "outputs": [],
   "source": [
    "# Chuẩn bị dữ liệu\n",
    "# Chọn các cột làm đặc trưng (features)\n",
    "X = df[[\"Total Floor\", \"Bathroom\", \"ImputedCarpet_Area\", \"ImputedCurrent_Floor\"]].values  \n",
    "\n",
    "# Chọn cột giá nhà làm nhãn (labels)\n",
    "y = df[[\"Price\"]].values  \n",
    "\n",
    "# Chia thành tập huấn luyện và kiểm tra\n",
    "X_train, X_test, y_train, y_test = train_test_split(X, y, test_size=0.2, random_state=42)\n",
    "\n",
    "# Chuyển đổi dữ liệu sang tensor của PyTorch\n",
    "X_train_tensor = torch.tensor(X_train, dtype=torch.float32)\n",
    "y_train_tensor = torch.tensor(y_train, dtype=torch.float32)\n",
    "X_test_tensor = torch.tensor(X_test, dtype=torch.float32)\n",
    "y_test_tensor = torch.tensor(y_test, dtype=torch.float32)"
   ]
  },
  {
   "cell_type": "code",
   "execution_count": null,
   "metadata": {},
   "outputs": [],
   "source": [
    "# khởi tạo mô hình, hàm mất mát và bộ tối ưu\n",
    "model = HousePriceModel()\n",
    "criterion = nn.MSELoss()  # Mean Squared Error (MSE) dùng cho bài toán hồi quy\n",
    "optimizer = optim.Adam(model.parameters(), lr=0.01)  # Adam optimizer\n"
   ]
  },
  {
   "cell_type": "code",
   "execution_count": 20,
   "metadata": {},
   "outputs": [
    {
     "name": "stdout",
     "output_type": "stream",
     "text": [
      "Epoch [50/500], Loss: 983736832.0000\n",
      "Epoch [100/500], Loss: 983326912.0000\n",
      "Epoch [150/500], Loss: 982842112.0000\n",
      "Epoch [200/500], Loss: 978174464.0000\n",
      "Epoch [250/500], Loss: 951990848.0000\n",
      "Epoch [300/500], Loss: 949816192.0000\n",
      "Epoch [350/500], Loss: 952135104.0000\n",
      "Epoch [400/500], Loss: 971475776.0000\n",
      "Epoch [450/500], Loss: 964977216.0000\n",
      "Epoch [500/500], Loss: 954750976.0000\n"
     ]
    }
   ],
   "source": [
    "# huấn luyện mô hình\n",
    "num_epochs = 500  # Số lần lặp huấn luyện\n",
    "\n",
    "for epoch in range(num_epochs):\n",
    "    # Forward: dự đoán\n",
    "    y_pred = model(X_train_tensor)\n",
    "    \n",
    "    # Tính toán loss (MSE)\n",
    "    loss = criterion(y_pred, y_train_tensor)\n",
    "    \n",
    "    # Backward: tính gradient và cập nhật trọng số\n",
    "    optimizer.zero_grad()  # Xóa gradient cũ\n",
    "    loss.backward()  # Lan truyền ngược (backpropagation)\n",
    "    optimizer.step()  # Cập nhật trọng số\n",
    "    \n",
    "    # In loss mỗi 50 epochs\n",
    "    if (epoch+1) % 50 == 0:\n",
    "        print(f\"Epoch [{epoch+1}/{num_epochs}], Loss: {loss.item():.4f}\")\n"
   ]
  },
  {
   "cell_type": "code",
   "execution_count": 21,
   "metadata": {},
   "outputs": [
    {
     "name": "stdout",
     "output_type": "stream",
     "text": [
      "Actual prices: [ 8000.  4472.  5655. 12594. 11111.]\n",
      "Predicted prices: tensor([6914.1450,  858.9201, 3589.0742, 6195.7627,  490.2827])\n"
     ]
    }
   ],
   "source": [
    "# kiểm tra mô hình\n",
    "# Chuyển sang chế độ đánh giá (không cập nhật trọng số)\n",
    "model.eval()\n",
    "\n",
    "# Dự đoán trên tập kiểm tra\n",
    "with torch.no_grad():\n",
    "    y_test_pred = model(X_test_tensor)\n",
    "\n",
    "# In một số dự đoán\n",
    "print(\"Actual prices:\", y_test[:5].flatten())\n",
    "print(\"Predicted prices:\", y_test_pred[:5].flatten())\n"
   ]
  }
 ],
 "metadata": {
  "kernelspec": {
   "display_name": "Python 3",
   "language": "python",
   "name": "python3"
  },
  "language_info": {
   "codemirror_mode": {
    "name": "ipython",
    "version": 3
   },
   "file_extension": ".py",
   "mimetype": "text/x-python",
   "name": "python",
   "nbconvert_exporter": "python",
   "pygments_lexer": "ipython3",
   "version": "3.10.8"
  }
 },
 "nbformat": 4,
 "nbformat_minor": 2
}
